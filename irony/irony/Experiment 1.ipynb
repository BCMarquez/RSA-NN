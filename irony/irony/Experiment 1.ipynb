{
 "cells": [
  {
   "cell_type": "markdown",
   "metadata": {},
   "source": [
    "# Reproducing Experiment 1"
   ]
  },
  {
   "cell_type": "markdown",
   "metadata": {},
   "source": [
    "For each of the nine weather contexts, we obtained the number of participants who gave each of the weather state ratings. By performing add-one Laplace smoothing on the counts, we computed a smoothed prior distribution over weather states given each context, namely $P(s)$ (Figure 3). "
   ]
  },
  {
   "cell_type": "code",
   "execution_count": 1,
   "metadata": {
    "collapsed": false
   },
   "outputs": [],
   "source": [
    "import numpy as np\n",
    "import pandas as pd\n",
    "df = pd.read_csv(\"data/priors/long.csv\")"
   ]
  },
  {
   "cell_type": "code",
   "execution_count": 2,
   "metadata": {
    "collapsed": false
   },
   "outputs": [
    {
     "data": {
      "text/html": [
       "<div>\n",
       "<table border=\"1\" class=\"dataframe\">\n",
       "  <thead>\n",
       "    <tr style=\"text-align: right;\">\n",
       "      <th></th>\n",
       "      <th>workerID</th>\n",
       "      <th>gender</th>\n",
       "      <th>age</th>\n",
       "      <th>income</th>\n",
       "      <th>language</th>\n",
       "      <th>order</th>\n",
       "      <th>imageID</th>\n",
       "      <th>imageCategory</th>\n",
       "      <th>stateRating</th>\n",
       "      <th>sad</th>\n",
       "      <th>disgusted</th>\n",
       "      <th>angry</th>\n",
       "      <th>neutral</th>\n",
       "      <th>content</th>\n",
       "      <th>happy</th>\n",
       "      <th>excited</th>\n",
       "    </tr>\n",
       "  </thead>\n",
       "  <tbody>\n",
       "    <tr>\n",
       "      <th>102</th>\n",
       "      <td>13</td>\n",
       "      <td>F</td>\n",
       "      <td>45</td>\n",
       "      <td>0</td>\n",
       "      <td>English</td>\n",
       "      <td>4</td>\n",
       "      <td>1</td>\n",
       "      <td>amazing</td>\n",
       "      <td>4</td>\n",
       "      <td>0.21</td>\n",
       "      <td>0.04</td>\n",
       "      <td>0.04</td>\n",
       "      <td>0.42</td>\n",
       "      <td>0.81</td>\n",
       "      <td>0.68</td>\n",
       "      <td>0.52</td>\n",
       "    </tr>\n",
       "    <tr>\n",
       "      <th>337</th>\n",
       "      <td>39</td>\n",
       "      <td>F</td>\n",
       "      <td>45</td>\n",
       "      <td>4</td>\n",
       "      <td>English</td>\n",
       "      <td>5</td>\n",
       "      <td>1</td>\n",
       "      <td>amazing</td>\n",
       "      <td>5</td>\n",
       "      <td>0.04</td>\n",
       "      <td>0.06</td>\n",
       "      <td>0.05</td>\n",
       "      <td>0.42</td>\n",
       "      <td>0.42</td>\n",
       "      <td>0.82</td>\n",
       "      <td>0.76</td>\n",
       "    </tr>\n",
       "    <tr>\n",
       "      <th>149</th>\n",
       "      <td>18</td>\n",
       "      <td>M</td>\n",
       "      <td>25</td>\n",
       "      <td>6</td>\n",
       "      <td>English</td>\n",
       "      <td>6</td>\n",
       "      <td>1</td>\n",
       "      <td>amazing</td>\n",
       "      <td>5</td>\n",
       "      <td>0.02</td>\n",
       "      <td>0.20</td>\n",
       "      <td>0.14</td>\n",
       "      <td>0.14</td>\n",
       "      <td>0.75</td>\n",
       "      <td>0.83</td>\n",
       "      <td>0.69</td>\n",
       "    </tr>\n",
       "    <tr>\n",
       "      <th>221</th>\n",
       "      <td>26</td>\n",
       "      <td>F</td>\n",
       "      <td>65</td>\n",
       "      <td>4</td>\n",
       "      <td>English</td>\n",
       "      <td>6</td>\n",
       "      <td>1</td>\n",
       "      <td>amazing</td>\n",
       "      <td>4</td>\n",
       "      <td>0.01</td>\n",
       "      <td>0.02</td>\n",
       "      <td>0.01</td>\n",
       "      <td>0.53</td>\n",
       "      <td>0.98</td>\n",
       "      <td>0.86</td>\n",
       "      <td>0.80</td>\n",
       "    </tr>\n",
       "    <tr>\n",
       "      <th>251</th>\n",
       "      <td>29</td>\n",
       "      <td>F</td>\n",
       "      <td>25</td>\n",
       "      <td>4</td>\n",
       "      <td>English</td>\n",
       "      <td>9</td>\n",
       "      <td>1</td>\n",
       "      <td>amazing</td>\n",
       "      <td>5</td>\n",
       "      <td>0.29</td>\n",
       "      <td>0.06</td>\n",
       "      <td>0.06</td>\n",
       "      <td>0.60</td>\n",
       "      <td>0.74</td>\n",
       "      <td>0.84</td>\n",
       "      <td>0.47</td>\n",
       "    </tr>\n",
       "    <tr>\n",
       "      <th>40</th>\n",
       "      <td>5</td>\n",
       "      <td>M</td>\n",
       "      <td>35</td>\n",
       "      <td>4</td>\n",
       "      <td>English</td>\n",
       "      <td>5</td>\n",
       "      <td>1</td>\n",
       "      <td>amazing</td>\n",
       "      <td>5</td>\n",
       "      <td>0.00</td>\n",
       "      <td>0.00</td>\n",
       "      <td>0.01</td>\n",
       "      <td>0.52</td>\n",
       "      <td>1.00</td>\n",
       "      <td>1.00</td>\n",
       "      <td>0.88</td>\n",
       "    </tr>\n",
       "    <tr>\n",
       "      <th>136</th>\n",
       "      <td>17</td>\n",
       "      <td>M</td>\n",
       "      <td>35</td>\n",
       "      <td>4</td>\n",
       "      <td>English</td>\n",
       "      <td>2</td>\n",
       "      <td>1</td>\n",
       "      <td>amazing</td>\n",
       "      <td>5</td>\n",
       "      <td>0.02</td>\n",
       "      <td>0.01</td>\n",
       "      <td>0.02</td>\n",
       "      <td>0.17</td>\n",
       "      <td>0.91</td>\n",
       "      <td>0.97</td>\n",
       "      <td>0.97</td>\n",
       "    </tr>\n",
       "    <tr>\n",
       "      <th>134</th>\n",
       "      <td>16</td>\n",
       "      <td>F</td>\n",
       "      <td>45</td>\n",
       "      <td>8</td>\n",
       "      <td>English</td>\n",
       "      <td>9</td>\n",
       "      <td>1</td>\n",
       "      <td>amazing</td>\n",
       "      <td>5</td>\n",
       "      <td>0.00</td>\n",
       "      <td>0.00</td>\n",
       "      <td>0.00</td>\n",
       "      <td>0.42</td>\n",
       "      <td>0.73</td>\n",
       "      <td>0.86</td>\n",
       "      <td>0.48</td>\n",
       "    </tr>\n",
       "    <tr>\n",
       "      <th>350</th>\n",
       "      <td>40</td>\n",
       "      <td>M</td>\n",
       "      <td>65</td>\n",
       "      <td>4</td>\n",
       "      <td>english</td>\n",
       "      <td>9</td>\n",
       "      <td>1</td>\n",
       "      <td>amazing</td>\n",
       "      <td>4</td>\n",
       "      <td>0.02</td>\n",
       "      <td>0.02</td>\n",
       "      <td>0.01</td>\n",
       "      <td>0.10</td>\n",
       "      <td>0.93</td>\n",
       "      <td>0.78</td>\n",
       "      <td>0.60</td>\n",
       "    </tr>\n",
       "    <tr>\n",
       "      <th>47</th>\n",
       "      <td>7</td>\n",
       "      <td>M</td>\n",
       "      <td>35</td>\n",
       "      <td>4</td>\n",
       "      <td>English</td>\n",
       "      <td>3</td>\n",
       "      <td>1</td>\n",
       "      <td>amazing</td>\n",
       "      <td>4</td>\n",
       "      <td>0.30</td>\n",
       "      <td>0.14</td>\n",
       "      <td>0.29</td>\n",
       "      <td>0.39</td>\n",
       "      <td>0.51</td>\n",
       "      <td>0.54</td>\n",
       "      <td>0.53</td>\n",
       "    </tr>\n",
       "  </tbody>\n",
       "</table>\n",
       "</div>"
      ],
      "text/plain": [
       "     workerID gender  age  income language  order  imageID imageCategory  \\\n",
       "102        13      F   45       0  English      4        1       amazing   \n",
       "337        39      F   45       4  English      5        1       amazing   \n",
       "149        18      M   25       6  English      6        1       amazing   \n",
       "221        26      F   65       4  English      6        1       amazing   \n",
       "251        29      F   25       4  English      9        1       amazing   \n",
       "40          5      M   35       4  English      5        1       amazing   \n",
       "136        17      M   35       4  English      2        1       amazing   \n",
       "134        16      F   45       8  English      9        1       amazing   \n",
       "350        40      M   65       4  english      9        1       amazing   \n",
       "47          7      M   35       4  English      3        1       amazing   \n",
       "\n",
       "     stateRating   sad  disgusted  angry  neutral  content  happy  excited  \n",
       "102            4  0.21       0.04   0.04     0.42     0.81   0.68     0.52  \n",
       "337            5  0.04       0.06   0.05     0.42     0.42   0.82     0.76  \n",
       "149            5  0.02       0.20   0.14     0.14     0.75   0.83     0.69  \n",
       "221            4  0.01       0.02   0.01     0.53     0.98   0.86     0.80  \n",
       "251            5  0.29       0.06   0.06     0.60     0.74   0.84     0.47  \n",
       "40             5  0.00       0.00   0.01     0.52     1.00   1.00     0.88  \n",
       "136            5  0.02       0.01   0.02     0.17     0.91   0.97     0.97  \n",
       "134            5  0.00       0.00   0.00     0.42     0.73   0.86     0.48  \n",
       "350            4  0.02       0.02   0.01     0.10     0.93   0.78     0.60  \n",
       "47             4  0.30       0.14   0.29     0.39     0.51   0.54     0.53  "
      ]
     },
     "execution_count": 2,
     "metadata": {},
     "output_type": "execute_result"
    }
   ],
   "source": [
    "df.sort_values(by=[\"imageID\"])[:10] #just so we can see the data organized"
   ]
  },
  {
   "cell_type": "code",
   "execution_count": 3,
   "metadata": {
    "collapsed": false
   },
   "outputs": [
    {
     "data": {
      "text/plain": [
       "array([[  1.,   1.,   1.,   9.,  42.],\n",
       "       [  1.,   1.,   1.,   4.,  47.],\n",
       "       [  1.,   1.,   1.,   3.,  48.],\n",
       "       [  1.,   8.,  28.,  15.,   2.],\n",
       "       [  1.,   1.,  12.,  34.,   6.],\n",
       "       [  1.,   1.,  10.,  32.,  10.],\n",
       "       [ 30.,  19.,   3.,   1.,   1.],\n",
       "       [  5.,  22.,  18.,   8.,   1.],\n",
       "       [ 30.,  19.,   3.,   1.,   1.]])"
      ]
     },
     "execution_count": 3,
     "metadata": {},
     "output_type": "execute_result"
    }
   ],
   "source": [
    "groups = df[[\"imageID\", \"imageCategory\", \"stateRating\"]].groupby('imageID')\n",
    "\n",
    "value_counts = groups[\"stateRating\"].value_counts()\n",
    "\n",
    "counts = np.ones((9,5))\n",
    "for val, cnt in value_counts.iteritems():\n",
    "    img_id,state = val[0]-1,val[1]-1\n",
    "    counts[img_id][state] = cnt + 1\n",
    "    \n",
    "\n",
    "priors = counts / counts.sum(axis=1,keepdims=True)  #normalize across rows\n",
    "counts\n"
   ]
  },
  {
   "cell_type": "markdown",
   "metadata": {},
   "source": [
    "### Recreate figure 3"
   ]
  },
  {
   "cell_type": "code",
   "execution_count": 4,
   "metadata": {
    "collapsed": false,
    "scrolled": false
   },
   "outputs": [
    {
     "data": {
      "image/png": "[encoded data removed]",
      "text/plain": [
       "<matplotlib.figure.Figure at 0x7f4ddc5ce4e0>"
      ]
     },
     "metadata": {},
     "output_type": "display_data"
    }
   ],
   "source": [
    "import matplotlib.pyplot as plt\n",
    "\n",
    "fig = plt.figure(figsize=(10, 8))\n",
    "labels = [\"terrible\", \"bad\", \"neutral\", \"good\", \"amazing\"]\n",
    "x = np.arange(5)\n",
    "\n",
    "for index, row in enumerate(priors,1):\n",
    "    ax1 = fig.add_subplot(33*10+index)\n",
    "    ax1.set_title(\"weather context %i\"%(index))\n",
    "    ax1.set_ylim(0, 1)\n",
    "    ax1.plot(x,row.tolist())\n",
    "    plt.grid()\n",
    "    plt.xticks(x, labels) \n",
    "    plt.yticks(np.arange(0.0, 1.0, 0.25))\n",
    "    \n",
    "\n",
    "fig.subplots_adjust(hspace=.5, wspace=.5)\n",
    "plt.show()"
   ]
  },
  {
   "cell_type": "markdown",
   "metadata": {},
   "source": [
    "## PCA\n",
    "To examine participants’ ratings of the affect associated. with each context, we first performed Principal Component Analysis (PCA) on the seven emotion category ratings. This allowed us to compress the ratings onto a lower-dimensional space and reveal the main affective dimensions that are important in this domain, as is often done in affective science (Russell, 1980)."
   ]
  },
  {
   "cell_type": "code",
   "execution_count": 5,
   "metadata": {
    "collapsed": true
   },
   "outputs": [],
   "source": [
    "def pca(m, k):\n",
    "    from numpy.linalg import svd\n",
    "    from numpy.linalg import eig\n",
    "    from numpy.linalg import det\n",
    "    u,s,v = svd(m)\n",
    "    rs = np.sqrt(np.diag(s[:k]))\n",
    "    x=np.dot(u[:,:k], rs)\n",
    "    y=np.dot(rs, v[:k])\n",
    "    mhat=np.dot(x, y)\n",
    "    return s, x, y, mhat"
   ]
  },
  {
   "cell_type": "code",
   "execution_count": 6,
   "metadata": {
    "collapsed": false
   },
   "outputs": [],
   "source": [
    "from scipy import stats\n",
    "affect = df[[\"imageID\", \"sad\", \"disgusted\", \"angry\", \"neutral\", \"content\", \"happy\", \"excited\"]]\n",
    "std_affect = stats.zscore(affect, axis=0)\n",
    "s,affect_observ,affect_components,mhat = pca(std_affect,2)"
   ]
  },
  {
   "cell_type": "markdown",
   "metadata": {},
   "source": [
    "We found that the first two principal components corresponded to the dimensions of emotional valence and emotional arousal, accounting for 69.14% and 13.86% of the variance in the data, respectively. The PCA represents emotion ratings for each trial as real values between negative and positive infinity on each of the dimensions."
   ]
  },
  {
   "cell_type": "markdown",
   "metadata": {},
   "source": [
    "## Zero Mean + STD Var\n",
    "To map these values onto probability space, we first standardized the scores on each dimension to have zero mean and unit variance. "
   ]
  },
  {
   "cell_type": "code",
   "execution_count": 7,
   "metadata": {
    "collapsed": false
   },
   "outputs": [],
   "source": [
    "affect_observ = stats.zscore(affect_observ,axis=0) #this may not be necessary as the values outputted by PCA remain standardized\n",
    "affect = affect.assign(pc1 = affect_observ[:,0], pc2 = affect_observ[:,1])"
   ]
  },
  {
   "cell_type": "markdown",
   "metadata": {},
   "source": [
    "## CDF to (0,1)\n",
    "We then used the cumulative distribution function to convert the standardized scores into values between 0 and 1. This gives us the probabilities of Ann feeling positive (vs. negative) valence and high (vs. low) arousal for each trial, which is a two-dimensional probabilistic representation of her affect."
   ]
  },
  {
   "cell_type": "code",
   "execution_count": 8,
   "metadata": {
    "collapsed": true
   },
   "outputs": [],
   "source": [
    "def cdf(data):\n",
    "    n = len(data)\n",
    "    sorted_indices = np.argsort(data) # sort your data\n",
    "    x = np.array(data)[sorted_indices]\n",
    "    y = np.arange(1, n + 1) / n # calculate cumulative probability\n",
    "    return x, y, sorted_indices"
   ]
  },
  {
   "cell_type": "code",
   "execution_count": 9,
   "metadata": {
    "collapsed": false
   },
   "outputs": [
    {
     "data": {
      "image/png": "[encoded data removed]",
      "text/plain": [
       "<matplotlib.figure.Figure at 0x7f4dc70c0d30>"
      ]
     },
     "metadata": {},
     "output_type": "display_data"
    }
   ],
   "source": [
    "x0,y0,indices0 = cdf(affect_observ[:,0])\n",
    "x1,y1,indices1 = cdf(affect_observ[:,1])\n",
    "\n",
    "fig = plt.figure(figsize=(10, 8))\n",
    "ax1 = fig.add_subplot(211)\n",
    "ax1.plot(x0,y0)\n",
    "ax2 = fig.add_subplot(212)\n",
    "ax2.plot(x1,y1)\n",
    "\n",
    "plt.show()"
   ]
  },
  {
   "cell_type": "markdown",
   "metadata": {},
   "source": [
    "the plots above give us \"the probability of ann feeling positive valence & high arousal for each trial\". Let's try a single trial and see what we get\n"
   ]
  },
  {
   "cell_type": "markdown",
   "metadata": {},
   "source": [
    "It is not clear which principal component is valence and which one is arousal\n",
    "nor do these values make much sense for \"terrible\".\n",
    "\n",
    ", but given that they later project them into a binary space, they probably take the intervals from -INF to 0 in order to get the probability of negative valence/arousal and vice versa for positive valence/arousal"
   ]
  },
  {
   "cell_type": "markdown",
   "metadata": {},
   "source": [
    "## Avg Probability for each state (across rows for each column)\n",
    "By calculating the average probabilities of positive valence and high arousal given each weather state rating, we obtain the probability of positive valence and high arousal associated with each weather state, namely $P(A|s)$ (Figure 4)."
   ]
  },
  {
   "cell_type": "markdown",
   "metadata": {
    "collapsed": true
   },
   "source": [
    "so i imagine that here we group the rows by image and then find the avg probability"
   ]
  },
  {
   "cell_type": "code",
   "execution_count": 11,
   "metadata": {
    "collapsed": false
   },
   "outputs": [
    {
     "data": {
      "text/html": [
       "<div>\n",
       "<table border=\"1\" class=\"dataframe\">\n",
       "  <thead>\n",
       "    <tr style=\"text-align: right;\">\n",
       "      <th></th>\n",
       "      <th>component 1 avg probability</th>\n",
       "    </tr>\n",
       "    <tr>\n",
       "      <th>stateRating</th>\n",
       "      <th></th>\n",
       "    </tr>\n",
       "  </thead>\n",
       "  <tbody>\n",
       "    <tr>\n",
       "      <th>1</th>\n",
       "      <td>0.441738</td>\n",
       "    </tr>\n",
       "    <tr>\n",
       "      <th>2</th>\n",
       "      <td>0.549957</td>\n",
       "    </tr>\n",
       "    <tr>\n",
       "      <th>3</th>\n",
       "      <td>0.484394</td>\n",
       "    </tr>\n",
       "    <tr>\n",
       "      <th>4</th>\n",
       "      <td>0.494562</td>\n",
       "    </tr>\n",
       "    <tr>\n",
       "      <th>5</th>\n",
       "      <td>0.516839</td>\n",
       "    </tr>\n",
       "  </tbody>\n",
       "</table>\n",
       "</div>"
      ],
      "text/plain": [
       "             component 1 avg probability\n",
       "stateRating                             \n",
       "1                               0.441738\n",
       "2                               0.549957\n",
       "3                               0.484394\n",
       "4                               0.494562\n",
       "5                               0.516839"
      ]
     },
     "execution_count": 11,
     "metadata": {},
     "output_type": "execute_result"
    }
   ],
   "source": [
    "ids = np.array(df[\"stateRating\"])[indices0]\n",
    "\n",
    "d = {'stateRating': ids, 'component 1 avg probability': y0}\n",
    "df = pd.DataFrame(data=d)\n",
    "df.groupby('stateRating').mean()"
   ]
  },
  {
   "cell_type": "code",
   "execution_count": 12,
   "metadata": {
    "collapsed": false
   },
   "outputs": [
    {
     "data": {
      "text/html": [
       "<div>\n",
       "<table border=\"1\" class=\"dataframe\">\n",
       "  <thead>\n",
       "    <tr style=\"text-align: right;\">\n",
       "      <th></th>\n",
       "      <th>component 2 avg probability</th>\n",
       "    </tr>\n",
       "    <tr>\n",
       "      <th>stateRating</th>\n",
       "      <th></th>\n",
       "    </tr>\n",
       "  </thead>\n",
       "  <tbody>\n",
       "    <tr>\n",
       "      <th>1</th>\n",
       "      <td>0.476117</td>\n",
       "    </tr>\n",
       "    <tr>\n",
       "      <th>2</th>\n",
       "      <td>0.472931</td>\n",
       "    </tr>\n",
       "    <tr>\n",
       "      <th>3</th>\n",
       "      <td>0.564092</td>\n",
       "    </tr>\n",
       "    <tr>\n",
       "      <th>4</th>\n",
       "      <td>0.490559</td>\n",
       "    </tr>\n",
       "    <tr>\n",
       "      <th>5</th>\n",
       "      <td>0.501879</td>\n",
       "    </tr>\n",
       "  </tbody>\n",
       "</table>\n",
       "</div>"
      ],
      "text/plain": [
       "             component 2 avg probability\n",
       "stateRating                             \n",
       "1                               0.476117\n",
       "2                               0.472931\n",
       "3                               0.564092\n",
       "4                               0.490559\n",
       "5                               0.501879"
      ]
     },
     "execution_count": 12,
     "metadata": {},
     "output_type": "execute_result"
    }
   ],
   "source": [
    "ids = np.array(df[\"stateRating\"])[indices1]\n",
    "\n",
    "d = {'stateRating': ids, 'component 2 avg probability': y1}\n",
    "df = pd.DataFrame(data=d)\n",
    "df.groupby('stateRating').mean()"
   ]
  },
  {
   "cell_type": "code",
   "execution_count": null,
   "metadata": {
    "collapsed": true
   },
   "outputs": [],
   "source": [
    "# I accidently confused affect with state when trying to calculate priors. \n",
    "# However this code is pretty neat so I'm going to keep it in case I need it later\n",
    "# groups = df[[\"imageID\", \"sad\", \"disgusted\", \"angry\", \"neutral\", \"content\", \"happy\", \"excited\"]].groupby('imageID')\n",
    "# groups = groups.sum()\n",
    "# priors = groups.div(groups.sum(axis=1), axis=0) #normalize across rows\n",
    "# priors\n",
    "\n"
   ]
  }
 ],
 "metadata": {
  "anaconda-cloud": {},
  "kernelspec": {
   "display_name": "Python [default]",
   "language": "python",
   "name": "python3"
  },
  "language_info": {
   "codemirror_mode": {
    "name": "ipython",
    "version": 3
   },
   "file_extension": ".py",
   "mimetype": "text/x-python",
   "name": "python",
   "nbconvert_exporter": "python",
   "pygments_lexer": "ipython3",
   "version": "3.5.2"
  }
 },
 "nbformat": 4,
 "nbformat_minor": 1
}
